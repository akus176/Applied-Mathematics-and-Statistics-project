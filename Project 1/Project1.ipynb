{
 "cells": [
  {
   "cell_type": "markdown",
   "id": "2fe0914e-234f-4b7a-b8bf-ebc4d2f6d8fd",
   "metadata": {},
   "source": [
    "# Project 1: Gauss\n",
    "## Thông tin sinh viên:\n",
    "### Họ tên sinh viên: Trần Anh Khoa\n",
    "### Mã số sinh viên: 23120135"
   ]
  },
  {
   "cell_type": "markdown",
   "id": "b1a4ad4d-d0b2-4f7b-a8a2-820ec6f8f61f",
   "metadata": {},
   "source": [
    "## Giới thiệu về thuật toán sử dụng: thuật toán Gauss và phương pháp thế ngược\n",
    "### Thuật toán Gauss dùng để đưa một ma trận (cụ thể trong trường hợp này là ma trận mở rộng) về ma trận bậc thang\n",
    "\n",
    "### Phương pháp thế ngược dùng để tìm nghiệm của hệ phương trình từ ma trận bậc thang\n",
    "#### Quy trình đưa ma trận về dạng bậc thang:   \n",
    "1. Xác định cột trái nhất chứa phần tử khác 0.  \n",
    "2. Hoán đổi dòng để đưa một phần tử khác 0 lên đầu cột.  \n",
    "3. Nhân dòng chứa phần tử đầu cột với nghịch đảo của nó để tạo **leading 1**.  \n",
    "4. Loại bỏ các phần tử dưới **leading 1** bằng phép biến đổi dòng.  \n",
    "5. Lặp lại với các dòng còn lại của ma trận cho đến khi đạt dạng bậc thang."
   ]
  },
  {
   "cell_type": "code",
   "execution_count": 40,
   "id": "0d904259-61d4-4f02-bc67-e508db565437",
   "metadata": {},
   "outputs": [
    {
     "name": "stdout",
     "output_type": "stream",
     "text": [
      "Ma trận ban đầu:\n",
      "[1, -1, 1, -3]\n",
      "[2, -1, 4, -2]\n",
      "Ma trận sau khi đưa về dạng bậc thang:\n",
      "[1.0, -1.0, 1.0, -3.0]\n",
      "[0.0, 1.0, 2.0, 4.0]\n",
      "Nghiệm của hệ phương trình là: \n",
      "Hệ phương trình có vô số nghiệm\n"
     ]
    }
   ],
   "source": [
    "\n",
    "def Gauss_elimination(matrix):\n",
    "    rows = len(matrix)\n",
    "    cols = len(matrix[0])\n",
    "    \n",
    "    row_index = 0  \n",
    "    \n",
    "    for col in range(cols): \n",
    "        pivot_row = -1\n",
    "        for i in range(row_index, rows):\n",
    "            if matrix[i][col] != 0:\n",
    "                pivot_row = i\n",
    "                break\n",
    "        \n",
    "        if pivot_row == -1:\n",
    "            continue \n",
    "        \n",
    "        matrix[row_index], matrix[pivot_row] = matrix[pivot_row], matrix[row_index]\n",
    "        \n",
    "        pivot = matrix[row_index][col]\n",
    "        if pivot != 0:\n",
    "            matrix[row_index] = [value / pivot for value in matrix[row_index]]\n",
    "        \n",
    "        for i in range(row_index + 1, rows):\n",
    "            factor = matrix[i][col]\n",
    "            for j in range(cols):\n",
    "                matrix[i][j] -= factor * matrix[row_index][j]\n",
    "        \n",
    "        row_index += 1\n",
    "\n",
    "    for i in range(rows):\n",
    "        for j in range(cols):\n",
    "            if abs(A[i][j]) < 1e-9:  # Kiểm tra số rất nhỏ \n",
    "                A[i][j] = 0.0\n",
    "    \n",
    "    return matrix\n",
    "    \n",
    "def back_substitution(A):\n",
    "    rows, cols = len(A), len(A[0]) \n",
    "    n = cols - 1  \n",
    "\n",
    "    # Kiểm tra hàng vô nghiệm (0 0 ... 0 | b với b ≠ 0)\n",
    "    for i in range(rows):\n",
    "        if all(A[i][j] == 0 for j in range(n)) and A[i][-1] != 0:\n",
    "            return \"Hệ phương trình vô nghiệm\"\n",
    "\n",
    "    # Kiểm tra số ẩn lớn hơn số phương trình, có thể có vô số nghiệm\n",
    "    if rows < n:\n",
    "        return \"Hệ phương trình có vô số nghiệm\"\n",
    "\n",
    "    # Mảng lưu nghiệm\n",
    "    x = [0] * n\n",
    "\n",
    "    # Duyệt ngược từ dòng cuối lên\n",
    "    for i in range(n - 1, -1, -1):  \n",
    "        # Nếu hệ số chính bằng 0 mà hệ số tự do khác 0 thìvô nghiệm\n",
    "        if A[i][i] == 0:\n",
    "            return \"Hệ phương trình có vô số nghiệm\"\n",
    "\n",
    "        # Tính nghiệm x[i]\n",
    "        x[i] = A[i][-1]  \n",
    "        for j in range(i + 1, n):  \n",
    "            x[i] -= A[i][j] * x[j]  \n",
    "        x[i] /= A[i][i]  \n",
    "\n",
    "    return x \n",
    "\n",
    "A = [\n",
    "    [1, -1, 1, -3],\n",
    "    [2,  -1, 4, -2],\n",
    "]\n",
    "\n",
    "print('Ma trận ban đầu:')\n",
    "for row in A:\n",
    "    print(row)\n",
    "\n",
    "result = Gauss_elimination(A)\n",
    "\n",
    "print('Ma trận sau khi đưa về dạng bậc thang:')\n",
    "for row in result:\n",
    "    print(row)\n",
    "    \n",
    "print('Nghiệm của hệ phương trình là: ')\n",
    "solution = back_substitution(result)\n",
    "\n",
    "# Kiểm tra nếu như kết quả là chuỗi (vô nghiệm hoặc vô số nghiệm)\n",
    "if isinstance(solution, str):\n",
    "    print(solution)\n",
    "\n",
    "# Nếu kết quả là một tập chứa duy nhất nghiệm thì in ra từng nghiệm cụ thể\n",
    "else:\n",
    "    for idx, value in enumerate(solution, start=1):\n",
    "        print(f\"x{idx} = {value}\")"
   ]
  },
  {
   "cell_type": "code",
   "execution_count": 10,
   "id": "35d1edba-7bbf-46a1-b501-572fb67ef25e",
   "metadata": {},
   "outputs": [
    {
     "name": "stdout",
     "output_type": "stream",
     "text": [
      "[1, -1, 1, -3]\n",
      "[0, 1, 2, 4]\n"
     ]
    }
   ],
   "source": [
    "# Dùng để kiểm tra việc đưa về ma trận bậc thang\n",
    "from sympy import Matrix\n",
    "\n",
    "A = Matrix([\n",
    "    [1, -1, 1, -3],\n",
    "    [2, -1, 4, -2]\n",
    "])\n",
    "echelon_matrix = A.echelon_form()\n",
    "for row in echelon_matrix.tolist():\n",
    "    print(row)\n"
   ]
  },
  {
   "cell_type": "code",
   "execution_count": 11,
   "id": "7b4e5133-f37f-4967-bf42-0c5446b30dee",
   "metadata": {},
   "outputs": [
    {
     "name": "stdout",
     "output_type": "stream",
     "text": [
      "Nghiệm của hệ: {(1 - 3*z, 4 - 2*z, z)}\n"
     ]
    }
   ],
   "source": [
    "# Dùng để kiểm tra việc giải hệ phương trình\n",
    "from sympy import Matrix, symbols, linsolve\n",
    "\n",
    "x, y, z = symbols('x y z')\n",
    "A = Matrix([\n",
    "    [1, -1, 1, -3],\n",
    "    [2, -1, 4, -2]\n",
    "           ])  # Ma trận mở rộng\n",
    "solution = linsolve(A, (x, y, z))\n",
    "\n",
    "print(\"Nghiệm của hệ:\", solution)"
   ]
  },
  {
   "cell_type": "code",
   "execution_count": null,
   "id": "c36d4bea-d1d6-40e4-a1fb-e90ad69e7e35",
   "metadata": {},
   "outputs": [],
   "source": []
  }
 ],
 "metadata": {
  "kernelspec": {
   "display_name": "Python 3 (ipykernel)",
   "language": "python",
   "name": "python3"
  },
  "language_info": {
   "codemirror_mode": {
    "name": "ipython",
    "version": 3
   },
   "file_extension": ".py",
   "mimetype": "text/x-python",
   "name": "python",
   "nbconvert_exporter": "python",
   "pygments_lexer": "ipython3",
   "version": "3.13.0"
  }
 },
 "nbformat": 4,
 "nbformat_minor": 5
}
